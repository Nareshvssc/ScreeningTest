{
 "cells": [
  {
   "cell_type": "code",
   "execution_count": 3,
   "id": "58d886a9",
   "metadata": {},
   "outputs": [],
   "source": []
  },
  {
   "cell_type": "code",
   "execution_count": null,
   "id": "3c230408",
   "metadata": {},
   "outputs": [],
   "source": []
  },
  {
   "cell_type": "markdown",
   "id": "59ca4593",
   "metadata": {},
   "source": [
    "Q1-Create a function in python to read the text file and replace specific content\n",
    "of the file."
   ]
  },
  {
   "cell_type": "code",
   "execution_count": 4,
   "id": "625adade",
   "metadata": {},
   "outputs": [],
   "source": [
    "import os\n",
    "import sys\n",
    "import logging\n",
    "from datetime import datetime"
   ]
  },
  {
   "cell_type": "code",
   "execution_count": 5,
   "id": "0ed44afb",
   "metadata": {},
   "outputs": [],
   "source": [
    "class file_exception(Exception):\n",
    "    def log_message(self,message):\n",
    "        LOG_DIR = 'filemodify_logs'\n",
    "        CURRENT_TIME_STAMP = f\"{datetime.now().strftime('%Y-%m-%d_%H-%M-%S')}\"\n",
    "        LOG_FILE_NAME = f\"mod_{CURRENT_TIME_STAMP}.log\"\n",
    "        os.makedirs(LOG_DIR,exist_ok=True)\n",
    "        LOG_FILE_PATH = os.path.join(LOG_DIR,LOG_FILE_NAME)\n",
    "        logging.basicConfig(filename=LOG_FILE_PATH,\n",
    "        filemode ='w',\n",
    "        format ='[%(asctime)s]%(name)s-%(levelname)s-%(message)s',\n",
    "        level = logging.INFO\n",
    "        )"
   ]
  },
  {
   "cell_type": "code",
   "execution_count": 6,
   "id": "60819e64",
   "metadata": {},
   "outputs": [],
   "source": [
    "class file(file_exception):\n",
    "    def __init__(self,location,file_name):\n",
    "        \"\"\"\n",
    "        pass the location and filename while creating the object\n",
    "        \"\"\"\n",
    "        self.location = location\n",
    "        self.file_name = file_name\n",
    "        self.path_name = os.path.join(self.location,self.file_name)\n",
    "        self.text = None\n",
    "    def modify_data(self,given_word,to_replace_word,mode='r'):\n",
    "        \"\"\"\n",
    "        pass the word to be replace with the new word\n",
    "        \"\"\"\n",
    "        try:\n",
    "            with open(self.path_name,mode) as f:\n",
    "                self.text = f.readlines()\n",
    "                f.close()\n",
    "        except Exception as err:\n",
    "            self.log_message(err)\n",
    "        else:\n",
    "            print(\"asdgjashd\")\n",
    "            self.write_data(given_word,to_replace_word)\n",
    "            self.log_message(\"Words replaced succefully\")\n",
    "    def write_data(self,given_word,to_replace_word):\n",
    "        total_lines=[line.replace(given_word,to_replace_word) for line in self.text]\n",
    "        with open(self.path_name,mode='w') as f:\n",
    "            f.seek(0)\n",
    "            for i in range(len(total_lines)):\n",
    "                f.write(total_lines[i]+\" \")\n",
    "        f.close()"
   ]
  },
  {
   "cell_type": "markdown",
   "id": "944c1bab",
   "metadata": {},
   "source": [
    "Q-2: Demonstrate use of abstract class, multiple inheritance and decorator in\n",
    "python using examples."
   ]
  },
  {
   "cell_type": "markdown",
   "id": "50249711",
   "metadata": {},
   "source": [
    "### Abstract class:"
   ]
  },
  {
   "cell_type": "markdown",
   "id": "d3db17ed",
   "metadata": {},
   "source": [
    "#### Abstract class is used in situtation where we need to work on teams , abstract class lets all know the methods avaialable to class Tho the object of Abstract class cannot be instantiated but it gives a clear blue prints for different type of methods to the teams  . the method becomes the abstract method by inherting ABC base class and using key word @abstractmethod\n",
    "Following Code shows a simple example of Abstract class"
   ]
  },
  {
   "cell_type": "code",
   "execution_count": 12,
   "id": "c598414c",
   "metadata": {},
   "outputs": [],
   "source": [
    "from abc import ABC, abstractmethod\n",
    "\n",
    "class Testing(ABC):\n",
    "    @abstractmethod\n",
    "    def Nozzletesting(self):\n",
    "        pass\n",
    "\n",
    "\n",
    "class Team1(Testing):\n",
    "    def Nozzletesting(self):\n",
    "        print(\"Write down the procedure of Nozzle testing\")\n",
    "\n",
    "class Team2(Testing):\n",
    "    def Nozzletesting(self):\n",
    "        print(\"Write down the procedure of Vibration testing\")"
   ]
  },
  {
   "cell_type": "code",
   "execution_count": 13,
   "id": "9126aa93",
   "metadata": {},
   "outputs": [
    {
     "ename": "TypeError",
     "evalue": "Can't instantiate abstract class Testing with abstract methods Nozzletesting",
     "output_type": "error",
     "traceback": [
      "\u001b[1;31m---------------------------------------------------------------------------\u001b[0m",
      "\u001b[1;31mTypeError\u001b[0m                                 Traceback (most recent call last)",
      "\u001b[1;32m<ipython-input-13-abd67fa2bd68>\u001b[0m in \u001b[0;36m<module>\u001b[1;34m\u001b[0m\n\u001b[0;32m      1\u001b[0m \u001b[1;31m#we can see that we cannot create the object of abstract class\u001b[0m\u001b[1;33m\u001b[0m\u001b[1;33m\u001b[0m\u001b[1;33m\u001b[0m\u001b[0m\n\u001b[1;32m----> 2\u001b[1;33m \u001b[0mTest\u001b[0m \u001b[1;33m=\u001b[0m \u001b[0mTesting\u001b[0m\u001b[1;33m(\u001b[0m\u001b[1;33m)\u001b[0m\u001b[1;33m\u001b[0m\u001b[1;33m\u001b[0m\u001b[0m\n\u001b[0m",
      "\u001b[1;31mTypeError\u001b[0m: Can't instantiate abstract class Testing with abstract methods Nozzletesting"
     ]
    }
   ],
   "source": [
    "#we can see that we cannot create the object of abstract class\n",
    "Test = Testing()"
   ]
  },
  {
   "cell_type": "code",
   "execution_count": 15,
   "id": "07d30212",
   "metadata": {},
   "outputs": [
    {
     "name": "stdout",
     "output_type": "stream",
     "text": [
      "Write down the procedure of Nozzle testing\n"
     ]
    }
   ],
   "source": [
    "Tea1 = Team1()\n",
    "Tea1.Nozzletesting()"
   ]
  },
  {
   "cell_type": "code",
   "execution_count": 16,
   "id": "e75cd7dc",
   "metadata": {},
   "outputs": [
    {
     "name": "stdout",
     "output_type": "stream",
     "text": [
      "Write down the procedure of Vibration testing\n"
     ]
    }
   ],
   "source": [
    "Tea2 = Team2()\n",
    "Tea2.Nozzletesting()"
   ]
  },
  {
   "cell_type": "markdown",
   "id": "f025bd6a",
   "metadata": {},
   "source": [
    "## Multiple Inheritance "
   ]
  },
  {
   "cell_type": "markdown",
   "id": "d6f1fef3",
   "metadata": {},
   "source": [
    "#### Mutiple inheritance is defined as inheritance where the parent class is inherited by multiple child classes .For examples  ogranization structures"
   ]
  },
  {
   "cell_type": "code",
   "execution_count": 22,
   "id": "c5390657",
   "metadata": {},
   "outputs": [],
   "source": [
    "class ABC_company():\n",
    "    def __init__(self,address,reg_id,type_of):\n",
    "        self.address = address\n",
    "        self.reg_id = reg_id\n",
    "        self.type_of = type_of\n",
    "    def output(self):\n",
    "        print(\"We deal with the service in this informative sector\")\n",
    "\n",
    "class employees(ABC_company):\n",
    "    def __init__(self,name,emp_id,address,reg_id,type_of):\n",
    "        ABC_company.__init__(self,address,reg_id,type_of)\n",
    "        self.name = name\n",
    "        self.emp_id = emp_id\n",
    "    def nature_work(self):\n",
    "        print(\"my nature of work is dealing with education services\")\n",
    "        print(\"my details are \",self.name,\" emp_id \",self.emp_id)\n",
    "        print(\"i am associated with company \",self.reg_id,\" type of \",self.type_of,\" and its located at \",self.address)\n",
    "\n",
    "class student(ABC_company):\n",
    "    def __init__(self,name,user_id,address,reg_id,type_of):\n",
    "        ABC_company.__init__(self,address,reg_id,type_of)\n",
    "        self.name = name\n",
    "        self.user_id = user_id\n",
    "    def forusers(self):\n",
    "        print(\"I am the user of ABC company\")\n",
    "        print(\"my details are \",self.name,\"user id is \",self.user_id)\n",
    "        print(\"this company is located at \",self.address,\"with reg_id \",self.reg_id,\" it deals with \",self.type_of)"
   ]
  },
  {
   "cell_type": "code",
   "execution_count": 23,
   "id": "74be547f",
   "metadata": {},
   "outputs": [],
   "source": [
    "e1= employees(\"Naresh\",\"VS14080\",'THUMBA',\"GST1020\",\"Space activities\")"
   ]
  },
  {
   "cell_type": "code",
   "execution_count": 25,
   "id": "397df7fb",
   "metadata": {},
   "outputs": [
    {
     "name": "stdout",
     "output_type": "stream",
     "text": [
      "my nature of work is dealing with education services\n",
      "my details are  Naresh  emp_id  VS14080\n",
      "i am associated with company  GST1020  type of  Space activities  and its located at  THUMBA\n"
     ]
    }
   ],
   "source": [
    "e1.nature_work()"
   ]
  },
  {
   "cell_type": "code",
   "execution_count": 26,
   "id": "b3fed4c4",
   "metadata": {},
   "outputs": [
    {
     "name": "stdout",
     "output_type": "stream",
     "text": [
      "We deal with the service in this informative sector\n"
     ]
    }
   ],
   "source": [
    "e1.output()"
   ]
  },
  {
   "cell_type": "code",
   "execution_count": 27,
   "id": "a411bffe",
   "metadata": {},
   "outputs": [],
   "source": [
    "u1 = student(\"akash\",'ABS1289','Delhi','GST1020','Information')\n"
   ]
  },
  {
   "cell_type": "code",
   "execution_count": 29,
   "id": "e013e58c",
   "metadata": {},
   "outputs": [
    {
     "name": "stdout",
     "output_type": "stream",
     "text": [
      "I am the user of ABC company\n",
      "my details are  akash user id is  ABS1289\n",
      "this company is located at  Delhi with reg_id  GST1020  it deals with  Information\n"
     ]
    }
   ],
   "source": [
    "u1.forusers()"
   ]
  },
  {
   "cell_type": "code",
   "execution_count": 30,
   "id": "2dfebee7",
   "metadata": {},
   "outputs": [
    {
     "name": "stdout",
     "output_type": "stream",
     "text": [
      "We deal with the service in this informative sector\n"
     ]
    }
   ],
   "source": [
    "u1.output()"
   ]
  },
  {
   "cell_type": "markdown",
   "id": "3e2d26a3",
   "metadata": {},
   "source": [
    "### Decorators \n",
    "\n",
    "Decorators are function within a function where functions are passed as an argument . These are used to run function after specific operations\n"
   ]
  },
  {
   "cell_type": "code",
   "execution_count": 33,
   "id": "c666a757",
   "metadata": {},
   "outputs": [],
   "source": [
    "def all_task_list(func):\n",
    "    def sub_task():\n",
    "        print(\"Task 1 completed\")\n",
    "        func()\n",
    "        print(\"Task 3 completed and function executted succe\")\n",
    "    return sub_task()"
   ]
  },
  {
   "cell_type": "code",
   "execution_count": 34,
   "id": "6fabb557",
   "metadata": {},
   "outputs": [
    {
     "name": "stdout",
     "output_type": "stream",
     "text": [
      "Task 1 completed\n",
      "Task 2 completed successfully\n",
      "Task 3 completed and function executted succe\n"
     ]
    }
   ],
   "source": [
    "@all_task_list\n",
    "def task_2():\n",
    "    print(\"Task 2 completed successfully\")"
   ]
  },
  {
   "cell_type": "code",
   "execution_count": null,
   "id": "05c416ba",
   "metadata": {},
   "outputs": [],
   "source": []
  }
 ],
 "metadata": {
  "kernelspec": {
   "display_name": "Python 3",
   "language": "python",
   "name": "python3"
  },
  "language_info": {
   "codemirror_mode": {
    "name": "ipython",
    "version": 3
   },
   "file_extension": ".py",
   "mimetype": "text/x-python",
   "name": "python",
   "nbconvert_exporter": "python",
   "pygments_lexer": "ipython3",
   "version": "3.8.8"
  }
 },
 "nbformat": 4,
 "nbformat_minor": 5
}
